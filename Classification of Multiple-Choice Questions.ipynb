{
 "cells": [
  {
   "cell_type": "code",
   "execution_count": 11,
   "id": "f4cf7c66-986c-4baf-8bc5-506dbf73c670",
   "metadata": {},
   "outputs": [],
   "source": [
    "import pandas as pd\n",
    "import os"
   ]
  },
  {
   "cell_type": "markdown",
   "id": "b824057b-3e49-45d4-8d66-242c12303f97",
   "metadata": {},
   "source": [
    "## 1. Reading data from the file / Data Preparation"
   ]
  },
  {
   "cell_type": "code",
   "execution_count": 13,
   "id": "da619c0e-dd0b-43b0-b078-0b2063207def",
   "metadata": {},
   "outputs": [],
   "source": [
    "dataset_path = \"subjects-questions.csv\""
   ]
  },
  {
   "cell_type": "code",
   "execution_count": 14,
   "id": "ff55eb08-a547-4f03-9ad6-2a49025be800",
   "metadata": {},
   "outputs": [
    {
     "name": "stdout",
     "output_type": "stream",
     "text": [
      "(122574, 3)\n"
     ]
    },
    {
     "data": {
      "text/html": [
       "<div>\n",
       "<style scoped>\n",
       "    .dataframe tbody tr th:only-of-type {\n",
       "        vertical-align: middle;\n",
       "    }\n",
       "\n",
       "    .dataframe tbody tr th {\n",
       "        vertical-align: top;\n",
       "    }\n",
       "\n",
       "    .dataframe thead th {\n",
       "        text-align: right;\n",
       "    }\n",
       "</style>\n",
       "<table border=\"1\" class=\"dataframe\">\n",
       "  <thead>\n",
       "    <tr style=\"text-align: right;\">\n",
       "      <th></th>\n",
       "      <th>input</th>\n",
       "      <th>class</th>\n",
       "      <th>extra</th>\n",
       "    </tr>\n",
       "  </thead>\n",
       "  <tbody>\n",
       "    <tr>\n",
       "      <th>0</th>\n",
       "      <td>An anti-forest measure is\\nA. Afforestation\\nB...</td>\n",
       "      <td>Biology</td>\n",
       "      <td>NaN</td>\n",
       "    </tr>\n",
       "    <tr>\n",
       "      <th>1</th>\n",
       "      <td>Among the following organic acids, the acid pr...</td>\n",
       "      <td>Chemistry</td>\n",
       "      <td>NaN</td>\n",
       "    </tr>\n",
       "    <tr>\n",
       "      <th>2</th>\n",
       "      <td>If the area of two similar triangles are equal...</td>\n",
       "      <td>Maths</td>\n",
       "      <td>NaN</td>\n",
       "    </tr>\n",
       "    <tr>\n",
       "      <th>3</th>\n",
       "      <td>In recent year, there has been a growing\\nconc...</td>\n",
       "      <td>Biology</td>\n",
       "      <td>NaN</td>\n",
       "    </tr>\n",
       "    <tr>\n",
       "      <th>4</th>\n",
       "      <td>Which of the following statement\\nregarding tr...</td>\n",
       "      <td>Physics</td>\n",
       "      <td>NaN</td>\n",
       "    </tr>\n",
       "  </tbody>\n",
       "</table>\n",
       "</div>"
      ],
      "text/plain": [
       "                                               input      class extra\n",
       "0  An anti-forest measure is\\nA. Afforestation\\nB...    Biology   NaN\n",
       "1  Among the following organic acids, the acid pr...  Chemistry   NaN\n",
       "2  If the area of two similar triangles are equal...      Maths   NaN\n",
       "3  In recent year, there has been a growing\\nconc...    Biology   NaN\n",
       "4  Which of the following statement\\nregarding tr...    Physics   NaN"
      ]
     },
     "execution_count": 14,
     "metadata": {},
     "output_type": "execute_result"
    }
   ],
   "source": [
    "df = pd.read_csv(dataset_path, \n",
    "                 encoding = \"ISO-8859-1\",  \n",
    "                 on_bad_lines = 'skip', \n",
    "                 engine='python', \n",
    "                 names = ['input', 'class', \"extra\"]\n",
    "                )\n",
    "print(df.shape)\n",
    "df.head()"
   ]
  },
  {
   "cell_type": "code",
   "execution_count": 4,
   "id": "07193b7d-423b-4559-9970-a501d91dd104",
   "metadata": {
    "scrolled": true
   },
   "outputs": [
    {
     "data": {
      "text/plain": [
       "class\n",
       "Physics                                                                                                                                 38435\n",
       "Chemistry                                                                                                                               37764\n",
       "Maths                                                                                                                                   33170\n",
       "Biology                                                                                                                                 13122\n",
       " \\mathbf{2} \\boldsymbol{x}-\\mathbf{5} \\boldsymbol{y}=\\mathbf{1} \\)                                                                          2\n",
       " (ii) and (iii)                                                                                                                             1\n",
       " STATEMENT-2 is True STATEMENT-2 is a correct explanation for STATEMEN                                                                      1\n",
       " STATEMENT-2 is True STATEMENT-2 is NOT a correct explanation fo STATEMENT-1                                                                1\n",
       " STATEMENT-2 is False                                                                                                                       1\n",
       " \\) find proportionality constant                                                                                                           1\n",
       " 29 x+37 y=21 \\)                                                                                                                            1\n",
       " \\) is finite and non-                                                                                                                      1\n",
       " \\boldsymbol{a}_{20} \\)                                                                                                                     1\n",
       " \\) find the length of its other diagonal.                                                                                                  1\n",
       " \\( \\lim _{x \\rightarrow 0}\\left(\\frac{x^{2}+x+1}{x+1}-a x-6\\right)=4 \\)                                                                    1\n",
       " find the area of the quadrilateral.                                                                                                        1\n",
       " \\) find the length of \\( 2 \\mathrm{AB} \\) in \\( \\mathrm{cm} \\)                                                                             1\n",
       " then \\( \\lim _{x \\rightarrow \\alpha} \\frac{\\frac{e^{\\frac{1}{f(x)}}-1}{\\frac{1}{f(x)}} \\text { does not }}{e^{\\frac{1}{f(x)}+1}} \\)        1\n",
       " \\( \\int_{0}^{\\pi / 2} \\log \\sin 2 x d x \\)                                                                                                 1\n",
       " \\) if \\( \\boldsymbol{y}=\\tan ^{-1}\\left(\\frac{\\sin \\boldsymbol{x}}{\\mathbf{1}+\\cos \\boldsymbol{x}}\\right) \\)                               1\n",
       " \\( \\int_{0}^{\\frac{2}{3}} \\frac{d x}{4+9 x^{2}} \\)                                                                                         1\n",
       " \\frac{6 x}{4 x-1}<\\frac{1}{2} \\)                                                                                                           1\n",
       " \\mathbf{4} \\boldsymbol{x}+\\mathbf{2} \\boldsymbol{y}=\\mathbf{0} \\)                                                                          1\n",
       " \\) find the area of the parallelogram.                                                                                                     1\n",
       " \\cos ^{-1} \\sqrt{x}>\\sin ^{-1} \\sqrt{x} \\)                                                                                                 1\n",
       " find in how many ways it is possible to make an unsuccessful attempt to open the lock.                                                     1\n",
       " x \\in Z \\)                                                                                                                                 1\n",
       " will this plant remain healthy for long?                                                                                                   1\n",
       " \\mathrm{F}                                                                                                                                 1\n",
       " F                                                                                                                                          1\n",
       " \\quad \\boldsymbol{K}_{\\boldsymbol{p}}=\\mathbf{3} 2 \\boldsymbol{a} \\boldsymbol{t} \\boldsymbol{m}^{3} \\)                                     1\n",
       " \\( (4)- \\) DCT                                                                                                                             1\n",
       " a_{9} \\)                                                                                                                                   1\n",
       "Name: count, dtype: int64"
      ]
     },
     "execution_count": 4,
     "metadata": {},
     "output_type": "execute_result"
    }
   ],
   "source": [
    "# Lets define classes distribution\n",
    "df[\"class\"].value_counts()"
   ]
  },
  {
   "cell_type": "code",
   "execution_count": 5,
   "id": "11ea8469-f745-4c2b-af9c-9d61263e0850",
   "metadata": {},
   "outputs": [
    {
     "data": {
      "text/plain": [
       "class\n",
       "Physics      38435\n",
       "Chemistry    37764\n",
       "Maths        33170\n",
       "Biology      13122\n",
       "Name: count, dtype: int64"
      ]
     },
     "execution_count": 5,
     "metadata": {},
     "output_type": "execute_result"
    }
   ],
   "source": [
    "# Make some filtering of the data\n",
    "df = df[df[\"class\"].isin(['Physics', 'Chemistry', 'Maths', 'Biology'])]\n",
    "df[\"class\"].value_counts()"
   ]
  },
  {
   "cell_type": "markdown",
   "id": "7f6f0fff-5b0e-48c4-af1a-20e235236966",
   "metadata": {},
   "source": [
    "We can notice that the more-less dataset is balanced. The minority class is Biology, but it might not be too critical for us.\n",
    "\n",
    "For faster calculations, lets use only 1k records from this dataset. "
   ]
  },
  {
   "cell_type": "code",
   "execution_count": 6,
   "id": "c2d22541-2dc0-4d66-b633-5732fc184309",
   "metadata": {},
   "outputs": [
    {
     "data": {
      "text/plain": [
       "class\n",
       "Physics      334\n",
       "Chemistry    313\n",
       "Maths        240\n",
       "Biology      113\n",
       "Name: count, dtype: int64"
      ]
     },
     "execution_count": 6,
     "metadata": {},
     "output_type": "execute_result"
    }
   ],
   "source": [
    "df = df.sample(frac=1)\n",
    "df = df[:1000]\n",
    "df[\"class\"].value_counts()"
   ]
  },
  {
   "cell_type": "code",
   "execution_count": 7,
   "id": "6da510f6-a8e2-47f9-a51c-c960a7e6a947",
   "metadata": {},
   "outputs": [
    {
     "data": {
      "text/html": [
       "<div>\n",
       "<style scoped>\n",
       "    .dataframe tbody tr th:only-of-type {\n",
       "        vertical-align: middle;\n",
       "    }\n",
       "\n",
       "    .dataframe tbody tr th {\n",
       "        vertical-align: top;\n",
       "    }\n",
       "\n",
       "    .dataframe thead th {\n",
       "        text-align: right;\n",
       "    }\n",
       "</style>\n",
       "<table border=\"1\" class=\"dataframe\">\n",
       "  <thead>\n",
       "    <tr style=\"text-align: right;\">\n",
       "      <th></th>\n",
       "      <th>input</th>\n",
       "      <th>class</th>\n",
       "      <th>extra</th>\n",
       "    </tr>\n",
       "  </thead>\n",
       "  <tbody>\n",
       "    <tr>\n",
       "      <th>82963</th>\n",
       "      <td>A ray is reflected in turn by three plane mirr...</td>\n",
       "      <td>Physics</td>\n",
       "      <td>NaN</td>\n",
       "    </tr>\n",
       "    <tr>\n",
       "      <th>70834</th>\n",
       "      <td>Numbers greater than 1000 but not greater than...</td>\n",
       "      <td>Maths</td>\n",
       "      <td>NaN</td>\n",
       "    </tr>\n",
       "    <tr>\n",
       "      <th>114605</th>\n",
       "      <td>The ionisation energy of isotopes of an elemen...</td>\n",
       "      <td>Chemistry</td>\n",
       "      <td>NaN</td>\n",
       "    </tr>\n",
       "    <tr>\n",
       "      <th>85906</th>\n",
       "      <td>Which of the following products obtained by de...</td>\n",
       "      <td>Chemistry</td>\n",
       "      <td>NaN</td>\n",
       "    </tr>\n",
       "    <tr>\n",
       "      <th>88339</th>\n",
       "      <td>Find the maximum zener current for the\\nzener ...</td>\n",
       "      <td>Physics</td>\n",
       "      <td>NaN</td>\n",
       "    </tr>\n",
       "  </tbody>\n",
       "</table>\n",
       "</div>"
      ],
      "text/plain": [
       "                                                    input      class extra\n",
       "82963   A ray is reflected in turn by three plane mirr...    Physics   NaN\n",
       "70834   Numbers greater than 1000 but not greater than...      Maths   NaN\n",
       "114605  The ionisation energy of isotopes of an elemen...  Chemistry   NaN\n",
       "85906   Which of the following products obtained by de...  Chemistry   NaN\n",
       "88339   Find the maximum zener current for the\\nzener ...    Physics   NaN"
      ]
     },
     "execution_count": 7,
     "metadata": {},
     "output_type": "execute_result"
    }
   ],
   "source": [
    "df.head()"
   ]
  },
  {
   "cell_type": "markdown",
   "id": "6cd1028d-eed0-4642-9da0-559dda1da8a5",
   "metadata": {},
   "source": [
    "## 2. Data Preprocessing"
   ]
  },
  {
   "cell_type": "markdown",
   "id": "a71b2af8-41ed-44ba-ba50-2a343d09c5f9",
   "metadata": {},
   "source": [
    "All preprocessing methods can be found in text_preprocessing.py.\n",
    "\n",
    "I have some doubts that preprocessing methods can be useful for classification because we can use some semantics for embedding models - but let's test them.\n",
    "Those techniques might be good, when we use Chat GPT, as it allows us to reduce the number of tokens and some costs for triggering Open AI API. "
   ]
  },
  {
   "cell_type": "code",
   "execution_count": 9,
   "id": "18702460-c585-450f-8feb-c9f06a4e33d9",
   "metadata": {},
   "outputs": [
    {
     "name": "stdout",
     "output_type": "stream",
     "text": [
      "Collecting en-core-web-lg==3.7.1\n",
      "  Using cached https://github.com/explosion/spacy-models/releases/download/en_core_web_lg-3.7.1/en_core_web_lg-3.7.1-py3-none-any.whl (587.7 MB)\n",
      "Requirement already satisfied: spacy<3.8.0,>=3.7.2 in ./.venv/lib/python3.11/site-packages (from en-core-web-lg==3.7.1) (3.7.4)\n",
      "Requirement already satisfied: spacy-legacy<3.1.0,>=3.0.11 in ./.venv/lib/python3.11/site-packages (from spacy<3.8.0,>=3.7.2->en-core-web-lg==3.7.1) (3.0.12)\n",
      "Requirement already satisfied: spacy-loggers<2.0.0,>=1.0.0 in ./.venv/lib/python3.11/site-packages (from spacy<3.8.0,>=3.7.2->en-core-web-lg==3.7.1) (1.0.5)\n",
      "Requirement already satisfied: murmurhash<1.1.0,>=0.28.0 in ./.venv/lib/python3.11/site-packages (from spacy<3.8.0,>=3.7.2->en-core-web-lg==3.7.1) (1.0.10)\n",
      "Requirement already satisfied: cymem<2.1.0,>=2.0.2 in ./.venv/lib/python3.11/site-packages (from spacy<3.8.0,>=3.7.2->en-core-web-lg==3.7.1) (2.0.8)\n",
      "Requirement already satisfied: preshed<3.1.0,>=3.0.2 in ./.venv/lib/python3.11/site-packages (from spacy<3.8.0,>=3.7.2->en-core-web-lg==3.7.1) (3.0.9)\n",
      "Requirement already satisfied: thinc<8.3.0,>=8.2.2 in ./.venv/lib/python3.11/site-packages (from spacy<3.8.0,>=3.7.2->en-core-web-lg==3.7.1) (8.2.3)\n",
      "Requirement already satisfied: wasabi<1.2.0,>=0.9.1 in ./.venv/lib/python3.11/site-packages (from spacy<3.8.0,>=3.7.2->en-core-web-lg==3.7.1) (1.1.2)\n",
      "Requirement already satisfied: srsly<3.0.0,>=2.4.3 in ./.venv/lib/python3.11/site-packages (from spacy<3.8.0,>=3.7.2->en-core-web-lg==3.7.1) (2.4.8)\n",
      "Requirement already satisfied: catalogue<2.1.0,>=2.0.6 in ./.venv/lib/python3.11/site-packages (from spacy<3.8.0,>=3.7.2->en-core-web-lg==3.7.1) (2.0.10)\n",
      "Requirement already satisfied: weasel<0.4.0,>=0.1.0 in ./.venv/lib/python3.11/site-packages (from spacy<3.8.0,>=3.7.2->en-core-web-lg==3.7.1) (0.3.4)\n",
      "Requirement already satisfied: typer<0.10.0,>=0.3.0 in ./.venv/lib/python3.11/site-packages (from spacy<3.8.0,>=3.7.2->en-core-web-lg==3.7.1) (0.9.4)\n",
      "Requirement already satisfied: smart-open<7.0.0,>=5.2.1 in ./.venv/lib/python3.11/site-packages (from spacy<3.8.0,>=3.7.2->en-core-web-lg==3.7.1) (6.4.0)\n",
      "Requirement already satisfied: tqdm<5.0.0,>=4.38.0 in ./.venv/lib/python3.11/site-packages (from spacy<3.8.0,>=3.7.2->en-core-web-lg==3.7.1) (4.66.2)\n",
      "Requirement already satisfied: requests<3.0.0,>=2.13.0 in ./.venv/lib/python3.11/site-packages (from spacy<3.8.0,>=3.7.2->en-core-web-lg==3.7.1) (2.31.0)\n",
      "Requirement already satisfied: pydantic!=1.8,!=1.8.1,<3.0.0,>=1.7.4 in ./.venv/lib/python3.11/site-packages (from spacy<3.8.0,>=3.7.2->en-core-web-lg==3.7.1) (2.6.4)\n",
      "Requirement already satisfied: jinja2 in ./.venv/lib/python3.11/site-packages (from spacy<3.8.0,>=3.7.2->en-core-web-lg==3.7.1) (3.1.3)\n",
      "Requirement already satisfied: setuptools in ./.venv/lib/python3.11/site-packages (from spacy<3.8.0,>=3.7.2->en-core-web-lg==3.7.1) (69.2.0)\n",
      "Requirement already satisfied: packaging>=20.0 in ./.venv/lib/python3.11/site-packages (from spacy<3.8.0,>=3.7.2->en-core-web-lg==3.7.1) (23.2)\n",
      "Requirement already satisfied: langcodes<4.0.0,>=3.2.0 in ./.venv/lib/python3.11/site-packages (from spacy<3.8.0,>=3.7.2->en-core-web-lg==3.7.1) (3.3.0)\n",
      "Requirement already satisfied: numpy>=1.19.0 in ./.venv/lib/python3.11/site-packages (from spacy<3.8.0,>=3.7.2->en-core-web-lg==3.7.1) (1.26.4)\n",
      "Requirement already satisfied: annotated-types>=0.4.0 in ./.venv/lib/python3.11/site-packages (from pydantic!=1.8,!=1.8.1,<3.0.0,>=1.7.4->spacy<3.8.0,>=3.7.2->en-core-web-lg==3.7.1) (0.6.0)\n",
      "Requirement already satisfied: pydantic-core==2.16.3 in ./.venv/lib/python3.11/site-packages (from pydantic!=1.8,!=1.8.1,<3.0.0,>=1.7.4->spacy<3.8.0,>=3.7.2->en-core-web-lg==3.7.1) (2.16.3)\n",
      "Requirement already satisfied: typing-extensions>=4.6.1 in ./.venv/lib/python3.11/site-packages (from pydantic!=1.8,!=1.8.1,<3.0.0,>=1.7.4->spacy<3.8.0,>=3.7.2->en-core-web-lg==3.7.1) (4.10.0)\n",
      "Requirement already satisfied: charset-normalizer<4,>=2 in ./.venv/lib/python3.11/site-packages (from requests<3.0.0,>=2.13.0->spacy<3.8.0,>=3.7.2->en-core-web-lg==3.7.1) (3.3.2)\n",
      "Requirement already satisfied: idna<4,>=2.5 in ./.venv/lib/python3.11/site-packages (from requests<3.0.0,>=2.13.0->spacy<3.8.0,>=3.7.2->en-core-web-lg==3.7.1) (3.6)\n",
      "Requirement already satisfied: urllib3<3,>=1.21.1 in ./.venv/lib/python3.11/site-packages (from requests<3.0.0,>=2.13.0->spacy<3.8.0,>=3.7.2->en-core-web-lg==3.7.1) (2.2.1)\n",
      "Requirement already satisfied: certifi>=2017.4.17 in ./.venv/lib/python3.11/site-packages (from requests<3.0.0,>=2.13.0->spacy<3.8.0,>=3.7.2->en-core-web-lg==3.7.1) (2024.2.2)\n",
      "Requirement already satisfied: blis<0.8.0,>=0.7.8 in ./.venv/lib/python3.11/site-packages (from thinc<8.3.0,>=8.2.2->spacy<3.8.0,>=3.7.2->en-core-web-lg==3.7.1) (0.7.11)\n",
      "Requirement already satisfied: confection<1.0.0,>=0.0.1 in ./.venv/lib/python3.11/site-packages (from thinc<8.3.0,>=8.2.2->spacy<3.8.0,>=3.7.2->en-core-web-lg==3.7.1) (0.1.4)\n",
      "Requirement already satisfied: click<9.0.0,>=7.1.1 in ./.venv/lib/python3.11/site-packages (from typer<0.10.0,>=0.3.0->spacy<3.8.0,>=3.7.2->en-core-web-lg==3.7.1) (8.1.7)\n",
      "Requirement already satisfied: cloudpathlib<0.17.0,>=0.7.0 in ./.venv/lib/python3.11/site-packages (from weasel<0.4.0,>=0.1.0->spacy<3.8.0,>=3.7.2->en-core-web-lg==3.7.1) (0.16.0)\n",
      "Requirement already satisfied: MarkupSafe>=2.0 in ./.venv/lib/python3.11/site-packages (from jinja2->spacy<3.8.0,>=3.7.2->en-core-web-lg==3.7.1) (2.1.5)\n",
      "\u001b[38;5;2m✔ Download and installation successful\u001b[0m\n",
      "You can now load the package via spacy.load('en_core_web_lg')\n",
      "\u001b[38;5;3m⚠ Restart to reload dependencies\u001b[0m\n",
      "If you are in a Jupyter or Colab notebook, you may need to restart Python in\n",
      "order to load all the package's dependencies. You can do this by selecting the\n",
      "'Restart kernel' or 'Restart runtime' option.\n"
     ]
    },
    {
     "name": "stderr",
     "output_type": "stream",
     "text": [
      "\n",
      "\u001b[1m[\u001b[0m\u001b[34;49mnotice\u001b[0m\u001b[1;39;49m]\u001b[0m\u001b[39;49m A new release of pip is available: \u001b[0m\u001b[31;49m23.3.1\u001b[0m\u001b[39;49m -> \u001b[0m\u001b[32;49m24.0\u001b[0m\n",
      "\u001b[1m[\u001b[0m\u001b[34;49mnotice\u001b[0m\u001b[1;39;49m]\u001b[0m\u001b[39;49m To update, run: \u001b[0m\u001b[32;49mpip install --upgrade pip\u001b[0m\n"
     ]
    }
   ],
   "source": [
    "from text_preprocessing import TextProcessor"
   ]
  },
  {
   "cell_type": "code",
   "execution_count": 10,
   "id": "ef7fbc3e-18a7-442f-a20a-9d06dfe37d3f",
   "metadata": {},
   "outputs": [],
   "source": [
    "processor = TextProcessor()"
   ]
  },
  {
   "cell_type": "markdown",
   "id": "04d44dd4-1129-41cd-97c3-48d291553f8a",
   "metadata": {},
   "source": [
    "There are a couple of techniques. Let's apply there lowercasing, remove_punctuation, remove_stop_words, stemming\n",
    "\n",
    "After we try to compare a model without text processing and with text processing. "
   ]
  },
  {
   "cell_type": "code",
   "execution_count": 11,
   "id": "4471e45a-90a0-437b-8588-c6c74f264f6d",
   "metadata": {},
   "outputs": [],
   "source": [
    "processor = TextProcessor()\n",
    "\n",
    "df[\"input_processed\"] = (df[\"input\"]\n",
    "                        .apply(processor.lowercasing)\n",
    "                        .apply(processor.remove_punctuation)\n",
    "                        .apply(processor.remove_stop_words).apply(processor.stemming))"
   ]
  },
  {
   "cell_type": "code",
   "execution_count": 12,
   "id": "0c13efa2-f1d8-4ee0-af34-6d1bd95708be",
   "metadata": {},
   "outputs": [
    {
     "data": {
      "text/html": [
       "<div>\n",
       "<style scoped>\n",
       "    .dataframe tbody tr th:only-of-type {\n",
       "        vertical-align: middle;\n",
       "    }\n",
       "\n",
       "    .dataframe tbody tr th {\n",
       "        vertical-align: top;\n",
       "    }\n",
       "\n",
       "    .dataframe thead th {\n",
       "        text-align: right;\n",
       "    }\n",
       "</style>\n",
       "<table border=\"1\" class=\"dataframe\">\n",
       "  <thead>\n",
       "    <tr style=\"text-align: right;\">\n",
       "      <th></th>\n",
       "      <th>input</th>\n",
       "      <th>class</th>\n",
       "      <th>extra</th>\n",
       "      <th>input_processed</th>\n",
       "    </tr>\n",
       "  </thead>\n",
       "  <tbody>\n",
       "    <tr>\n",
       "      <th>82963</th>\n",
       "      <td>A ray is reflected in turn by three plane mirr...</td>\n",
       "      <td>Physics</td>\n",
       "      <td>NaN</td>\n",
       "      <td>ray reflect turn three plane mirror mutual rig...</td>\n",
       "    </tr>\n",
       "    <tr>\n",
       "      <th>70834</th>\n",
       "      <td>Numbers greater than 1000 but not greater than...</td>\n",
       "      <td>Maths</td>\n",
       "      <td>NaN</td>\n",
       "      <td>number greater 1000 greater 4000 form digit 01...</td>\n",
       "    </tr>\n",
       "    <tr>\n",
       "      <th>114605</th>\n",
       "      <td>The ionisation energy of isotopes of an elemen...</td>\n",
       "      <td>Chemistry</td>\n",
       "      <td>NaN</td>\n",
       "      <td>ionis energi isotop element b differ c depend ...</td>\n",
       "    </tr>\n",
       "    <tr>\n",
       "      <th>85906</th>\n",
       "      <td>Which of the following products obtained by de...</td>\n",
       "      <td>Chemistry</td>\n",
       "      <td>NaN</td>\n",
       "      <td>follow product obtain destruct distil coal pro...</td>\n",
       "    </tr>\n",
       "    <tr>\n",
       "      <th>88339</th>\n",
       "      <td>Find the maximum zener current for the\\nzener ...</td>\n",
       "      <td>Physics</td>\n",
       "      <td>NaN</td>\n",
       "      <td>find maximum zener current zener diod shown fi...</td>\n",
       "    </tr>\n",
       "  </tbody>\n",
       "</table>\n",
       "</div>"
      ],
      "text/plain": [
       "                                                    input      class extra  \\\n",
       "82963   A ray is reflected in turn by three plane mirr...    Physics   NaN   \n",
       "70834   Numbers greater than 1000 but not greater than...      Maths   NaN   \n",
       "114605  The ionisation energy of isotopes of an elemen...  Chemistry   NaN   \n",
       "85906   Which of the following products obtained by de...  Chemistry   NaN   \n",
       "88339   Find the maximum zener current for the\\nzener ...    Physics   NaN   \n",
       "\n",
       "                                          input_processed  \n",
       "82963   ray reflect turn three plane mirror mutual rig...  \n",
       "70834   number greater 1000 greater 4000 form digit 01...  \n",
       "114605  ionis energi isotop element b differ c depend ...  \n",
       "85906   follow product obtain destruct distil coal pro...  \n",
       "88339   find maximum zener current zener diod shown fi...  "
      ]
     },
     "execution_count": 12,
     "metadata": {},
     "output_type": "execute_result"
    }
   ],
   "source": [
    "df.head()"
   ]
  },
  {
   "cell_type": "markdown",
   "id": "3bbb81d9-a1d4-4fc2-95de-d477709bc306",
   "metadata": {},
   "source": [
    "## 3. Apply Embeddings"
   ]
  },
  {
   "cell_type": "markdown",
   "id": "d3aab198-6a44-4dc4-afaf-dc6eed202f26",
   "metadata": {},
   "source": [
    "In encoding_data.py, there are classes to encode data with batches. Let's use this class. \n",
    "Batched processing was used to avoid memory issues when encoding. \n",
    "\n",
    "Also, for encoding was the Sentence Transformers package and a model \"baai/bge-large-en-v1.5\". The logic for selecting this model is very simple - in previous projects, those embeddings showed great results, for some tasks even better than open AI embeddings. \n",
    "I can not guarantee that it's the ideal model, but it might be a good choice for the start."
   ]
  },
  {
   "cell_type": "markdown",
   "id": "175af1b5-bc90-4862-80f4-1c625d117579",
   "metadata": {},
   "source": [
    "Let's encode input and processed_input fields to compare what approach is better. "
   ]
  },
  {
   "cell_type": "code",
   "execution_count": 13,
   "id": "43651dcb-758b-4b51-875c-7ab34d8ff003",
   "metadata": {},
   "outputs": [
    {
     "name": "stderr",
     "output_type": "stream",
     "text": [
      "/Users/ibulk/Desktop/myProjects_new/classification-multi-choice/.venv/lib/python3.11/site-packages/tqdm/auto.py:21: TqdmWarning: IProgress not found. Please update jupyter and ipywidgets. See https://ipywidgets.readthedocs.io/en/stable/user_install.html\n",
      "  from .autonotebook import tqdm as notebook_tqdm\n"
     ]
    }
   ],
   "source": [
    "from encoding_data import BatchEncoder"
   ]
  },
  {
   "cell_type": "code",
   "execution_count": 14,
   "id": "b2c5eca2-bd40-4be5-a3de-42d15d353d1f",
   "metadata": {},
   "outputs": [
    {
     "name": "stderr",
     "output_type": "stream",
     "text": [
      "INFO:sentence_transformers.SentenceTransformer:Load pretrained SentenceTransformer: baai/bge-large-en-v1.5\n",
      "INFO:sentence_transformers.SentenceTransformer:Use pytorch device_name: mps\n",
      "INFO:root:Batch Encoder for column input initialized with batch size 64.\n",
      "INFO:root:Creating dataset...\n",
      "INFO:root:Dataset created.\n",
      "INFO:root:Starting encoding...\n",
      "Encoding: 0it [00:00, ?it/s]\n",
      "Batches:   0%|                                                                                                                                                                                    | 0/2 [00:00<?, ?it/s]\u001b[A\n",
      "Batches:  50%|██████████████████████████████████████████████████████████████████████████████████████                                                                                      | 1/2 [00:17<00:17, 17.56s/it]\u001b[A\n",
      "Batches: 100%|████████████████████████████████████████████████████████████████████████████████████████████████████████████████████████████████████████████████████████████████████████████| 2/2 [00:19<00:00,  9.52s/it]\u001b[A\n",
      "Encoding: 1it [00:19, 19.06s/it]\n",
      "Batches:   0%|                                                                                                                                                                                    | 0/2 [00:00<?, ?it/s]\u001b[A\n",
      "Batches:  50%|██████████████████████████████████████████████████████████████████████████████████████                                                                                      | 1/2 [00:07<00:07,  7.84s/it]\u001b[A\n",
      "Batches: 100%|████████████████████████████████████████████████████████████████████████████████████████████████████████████████████████████████████████████████████████████████████████████| 2/2 [00:09<00:00,  4.55s/it]\u001b[A\n",
      "Encoding: 2it [00:28, 13.22s/it]\n",
      "Batches:   0%|                                                                                                                                                                                    | 0/2 [00:00<?, ?it/s]\u001b[A\n",
      "Batches:  50%|██████████████████████████████████████████████████████████████████████████████████████                                                                                      | 1/2 [00:12<00:12, 12.05s/it]\u001b[A\n",
      "Batches: 100%|████████████████████████████████████████████████████████████████████████████████████████████████████████████████████████████████████████████████████████████████████████████| 2/2 [00:16<00:00,  8.31s/it]\u001b[A\n",
      "Encoding: 3it [00:44, 14.78s/it]\n",
      "Batches:   0%|                                                                                                                                                                                    | 0/2 [00:00<?, ?it/s]\u001b[A\n",
      "Batches:  50%|██████████████████████████████████████████████████████████████████████████████████████                                                                                      | 1/2 [00:03<00:03,  3.93s/it]\u001b[A\n",
      "Batches: 100%|████████████████████████████████████████████████████████████████████████████████████████████████████████████████████████████████████████████████████████████████████████████| 2/2 [00:05<00:00,  2.72s/it]\u001b[A\n",
      "Encoding: 4it [00:50, 11.11s/it]\n",
      "Batches:   0%|                                                                                                                                                                                    | 0/2 [00:00<?, ?it/s]\u001b[A\n",
      "Batches:  50%|██████████████████████████████████████████████████████████████████████████████████████                                                                                      | 1/2 [00:06<00:06,  6.11s/it]\u001b[A\n",
      "Batches: 100%|████████████████████████████████████████████████████████████████████████████████████████████████████████████████████████████████████████████████████████████████████████████| 2/2 [00:07<00:00,  3.62s/it]\u001b[A\n",
      "Encoding: 5it [00:57,  9.72s/it]\n",
      "Batches:   0%|                                                                                                                                                                                    | 0/2 [00:00<?, ?it/s]\u001b[A\n",
      "Batches:  50%|██████████████████████████████████████████████████████████████████████████████████████                                                                                      | 1/2 [00:04<00:04,  4.67s/it]\u001b[A\n",
      "Batches: 100%|████████████████████████████████████████████████████████████████████████████████████████████████████████████████████████████████████████████████████████████████████████████| 2/2 [00:05<00:00,  2.98s/it]\u001b[A\n",
      "Encoding: 6it [01:03,  8.45s/it]\n",
      "Batches:   0%|                                                                                                                                                                                    | 0/2 [00:00<?, ?it/s]\u001b[A\n",
      "Batches:  50%|██████████████████████████████████████████████████████████████████████████████████████                                                                                      | 1/2 [00:15<00:14, 14.99s/it]\u001b[A\n",
      "Batches: 100%|████████████████████████████████████████████████████████████████████████████████████████████████████████████████████████████████████████████████████████████████████████████| 2/2 [00:17<00:00,  8.61s/it]\u001b[A\n",
      "Encoding: 7it [01:20, 11.32s/it]\n",
      "Batches:   0%|                                                                                                                                                                                    | 0/2 [00:00<?, ?it/s]\u001b[A\n",
      "Batches:  50%|██████████████████████████████████████████████████████████████████████████████████████                                                                                      | 1/2 [00:10<00:10, 10.03s/it]\u001b[A\n",
      "Batches: 100%|████████████████████████████████████████████████████████████████████████████████████████████████████████████████████████████████████████████████████████████████████████████| 2/2 [00:12<00:00,  6.21s/it]\u001b[A\n",
      "Encoding: 8it [01:33, 11.69s/it]\n",
      "Batches:   0%|                                                                                                                                                                                    | 0/2 [00:00<?, ?it/s]\u001b[A\n",
      "Batches:  50%|██████████████████████████████████████████████████████████████████████████████████████                                                                                      | 1/2 [00:07<00:07,  7.63s/it]\u001b[A\n",
      "Batches: 100%|████████████████████████████████████████████████████████████████████████████████████████████████████████████████████████████████████████████████████████████████████████████| 2/2 [00:09<00:00,  4.53s/it]\u001b[A\n",
      "Encoding: 9it [01:42, 10.88s/it]\n",
      "Batches:   0%|                                                                                                                                                                                    | 0/2 [00:00<?, ?it/s]\u001b[A\n",
      "Batches:  50%|██████████████████████████████████████████████████████████████████████████████████████                                                                                      | 1/2 [00:05<00:05,  5.57s/it]\u001b[A\n",
      "Batches: 100%|████████████████████████████████████████████████████████████████████████████████████████████████████████████████████████████████████████████████████████████████████████████| 2/2 [00:06<00:00,  3.38s/it]\u001b[A\n",
      "Encoding: 10it [01:49,  9.62s/it]\n",
      "Batches:   0%|                                                                                                                                                                                    | 0/2 [00:00<?, ?it/s]\u001b[A\n",
      "Batches:  50%|██████████████████████████████████████████████████████████████████████████████████████                                                                                      | 1/2 [00:06<00:06,  6.41s/it]\u001b[A\n",
      "Batches: 100%|████████████████████████████████████████████████████████████████████████████████████████████████████████████████████████████████████████████████████████████████████████████| 2/2 [00:07<00:00,  3.96s/it]\u001b[A\n",
      "Encoding: 11it [01:57,  9.11s/it]\n",
      "Batches:   0%|                                                                                                                                                                                    | 0/2 [00:00<?, ?it/s]\u001b[A\n",
      "Batches:  50%|██████████████████████████████████████████████████████████████████████████████████████                                                                                      | 1/2 [00:08<00:08,  8.56s/it]\u001b[A\n",
      "Batches: 100%|████████████████████████████████████████████████████████████████████████████████████████████████████████████████████████████████████████████████████████████████████████████| 2/2 [00:09<00:00,  4.87s/it]\u001b[A\n",
      "Encoding: 12it [02:06,  9.30s/it]\n",
      "Batches:   0%|                                                                                                                                                                                    | 0/2 [00:00<?, ?it/s]\u001b[A\n",
      "Batches:  50%|██████████████████████████████████████████████████████████████████████████████████████                                                                                      | 1/2 [00:11<00:11, 11.85s/it]\u001b[A\n",
      "Batches: 100%|████████████████████████████████████████████████████████████████████████████████████████████████████████████████████████████████████████████████████████████████████████████| 2/2 [00:13<00:00,  7.00s/it]\u001b[A\n",
      "Encoding: 13it [02:20, 10.73s/it]\n",
      "Batches:   0%|                                                                                                                                                                                    | 0/2 [00:00<?, ?it/s]\u001b[A\n",
      "Batches:  50%|██████████████████████████████████████████████████████████████████████████████████████                                                                                      | 1/2 [00:06<00:06,  6.66s/it]\u001b[A\n",
      "Batches: 100%|████████████████████████████████████████████████████████████████████████████████████████████████████████████████████████████████████████████████████████████████████████████| 2/2 [00:07<00:00,  3.87s/it]\u001b[A\n",
      "Encoding: 14it [02:28,  9.84s/it]\n",
      "Batches:   0%|                                                                                                                                                                                    | 0/2 [00:00<?, ?it/s]\u001b[A\n",
      "Batches:  50%|██████████████████████████████████████████████████████████████████████████████████████                                                                                      | 1/2 [00:09<00:09,  9.33s/it]\u001b[A\n",
      "Batches: 100%|████████████████████████████████████████████████████████████████████████████████████████████████████████████████████████████████████████████████████████████████████████████| 2/2 [00:11<00:00,  5.70s/it]\u001b[A\n",
      "Encoding: 15it [02:40, 10.32s/it]\n",
      "Batches:   0%|                                                                                                                                                                                    | 0/2 [00:00<?, ?it/s]\u001b[A\n",
      "Batches:  50%|██████████████████████████████████████████████████████████████████████████████████████                                                                                      | 1/2 [00:14<00:14, 14.84s/it]\u001b[A\n",
      "Batches: 100%|████████████████████████████████████████████████████████████████████████████████████████████████████████████████████████████████████████████████████████████████████████████| 2/2 [00:15<00:00,  7.98s/it]\u001b[A\n",
      "Encoding: 16it [02:56, 11.00s/it]\n",
      "INFO:root:Assigning embeddings to new dataframe column \"embeddings\".\n",
      "INFO:root:Data processing complete.\n",
      "INFO:sentence_transformers.SentenceTransformer:Load pretrained SentenceTransformer: baai/bge-large-en-v1.5\n",
      "INFO:sentence_transformers.SentenceTransformer:Use pytorch device_name: mps\n",
      "INFO:root:Batch Encoder for column input_processed initialized with batch size 64.\n",
      "INFO:root:Creating dataset...\n",
      "INFO:root:Dataset created.\n",
      "INFO:root:Starting encoding...\n",
      "Encoding: 0it [00:00, ?it/s]\n",
      "Batches:   0%|                                                                                                                                                                                    | 0/2 [00:00<?, ?it/s]\u001b[A\n",
      "Batches:  50%|██████████████████████████████████████████████████████████████████████████████████████                                                                                      | 1/2 [00:03<00:03,  3.18s/it]\u001b[A\n",
      "Batches: 100%|████████████████████████████████████████████████████████████████████████████████████████████████████████████████████████████████████████████████████████████████████████████| 2/2 [00:03<00:00,  1.95s/it]\u001b[A\n",
      "Encoding: 1it [00:03,  3.91s/it]\n",
      "Batches:   0%|                                                                                                                                                                                    | 0/2 [00:00<?, ?it/s]\u001b[A\n",
      "Batches:  50%|██████████████████████████████████████████████████████████████████████████████████████                                                                                      | 1/2 [00:02<00:02,  2.66s/it]\u001b[A\n",
      "Batches: 100%|████████████████████████████████████████████████████████████████████████████████████████████████████████████████████████████████████████████████████████████████████████████| 2/2 [00:03<00:00,  1.66s/it]\u001b[A\n",
      "Encoding: 2it [00:07,  3.57s/it]\n",
      "Batches:   0%|                                                                                                                                                                                    | 0/2 [00:00<?, ?it/s]\u001b[A\n",
      "Batches:  50%|██████████████████████████████████████████████████████████████████████████████████████                                                                                      | 1/2 [00:02<00:02,  2.82s/it]\u001b[A\n",
      "Batches: 100%|████████████████████████████████████████████████████████████████████████████████████████████████████████████████████████████████████████████████████████████████████████████| 2/2 [00:03<00:00,  1.83s/it]\u001b[A\n",
      "Encoding: 3it [00:10,  3.61s/it]\n",
      "Batches:   0%|                                                                                                                                                                                    | 0/2 [00:00<?, ?it/s]\u001b[A\n",
      "Batches:  50%|██████████████████████████████████████████████████████████████████████████████████████                                                                                      | 1/2 [00:02<00:02,  2.51s/it]\u001b[A\n",
      "Batches: 100%|████████████████████████████████████████████████████████████████████████████████████████████████████████████████████████████████████████████████████████████████████████████| 2/2 [00:03<00:00,  1.64s/it]\u001b[A\n",
      "Encoding: 4it [00:14,  3.49s/it]\n",
      "Batches:   0%|                                                                                                                                                                                    | 0/2 [00:00<?, ?it/s]\u001b[A\n",
      "Batches:  50%|██████████████████████████████████████████████████████████████████████████████████████                                                                                      | 1/2 [00:02<00:02,  2.07s/it]\u001b[A\n",
      "Batches: 100%|████████████████████████████████████████████████████████████████████████████████████████████████████████████████████████████████████████████████████████████████████████████| 2/2 [00:02<00:00,  1.44s/it]\u001b[A\n",
      "Encoding: 5it [00:17,  3.27s/it]\n",
      "Batches:   0%|                                                                                                                                                                                    | 0/2 [00:00<?, ?it/s]\u001b[A\n",
      "Batches:  50%|██████████████████████████████████████████████████████████████████████████████████████                                                                                      | 1/2 [00:02<00:02,  2.39s/it]\u001b[A\n",
      "Batches: 100%|████████████████████████████████████████████████████████████████████████████████████████████████████████████████████████████████████████████████████████████████████████████| 2/2 [00:02<00:00,  1.47s/it]\u001b[A\n",
      "Encoding: 6it [00:20,  3.16s/it]\n",
      "Batches:   0%|                                                                                                                                                                                    | 0/2 [00:00<?, ?it/s]\u001b[A\n",
      "Batches:  50%|██████████████████████████████████████████████████████████████████████████████████████                                                                                      | 1/2 [00:04<00:04,  4.31s/it]\u001b[A\n",
      "Batches: 100%|████████████████████████████████████████████████████████████████████████████████████████████████████████████████████████████████████████████████████████████████████████████| 2/2 [00:04<00:00,  2.46s/it]\u001b[A\n",
      "Encoding: 7it [00:24,  3.74s/it]\n",
      "Batches:   0%|                                                                                                                                                                                    | 0/2 [00:00<?, ?it/s]\u001b[A\n",
      "Batches:  50%|██████████████████████████████████████████████████████████████████████████████████████                                                                                      | 1/2 [00:02<00:02,  2.93s/it]\u001b[A\n",
      "Batches: 100%|████████████████████████████████████████████████████████████████████████████████████████████████████████████████████████████████████████████████████████████████████████████| 2/2 [00:03<00:00,  1.84s/it]\u001b[A\n",
      "Encoding: 8it [00:28,  3.72s/it]\n",
      "Batches:   0%|                                                                                                                                                                                    | 0/2 [00:00<?, ?it/s]\u001b[A\n",
      "Batches:  50%|██████████████████████████████████████████████████████████████████████████████████████                                                                                      | 1/2 [00:02<00:02,  2.39s/it]\u001b[A\n",
      "Batches: 100%|████████████████████████████████████████████████████████████████████████████████████████████████████████████████████████████████████████████████████████████████████████████| 2/2 [00:02<00:00,  1.49s/it]\u001b[A\n",
      "Encoding: 9it [00:31,  3.49s/it]\n",
      "Batches:   0%|                                                                                                                                                                                    | 0/2 [00:00<?, ?it/s]\u001b[A\n",
      "Batches:  50%|██████████████████████████████████████████████████████████████████████████████████████                                                                                      | 1/2 [00:02<00:02,  2.17s/it]\u001b[A\n",
      "Batches: 100%|████████████████████████████████████████████████████████████████████████████████████████████████████████████████████████████████████████████████████████████████████████████| 2/2 [00:02<00:00,  1.45s/it]\u001b[A\n",
      "Encoding: 10it [00:34,  3.31s/it]\n",
      "Batches:   0%|                                                                                                                                                                                    | 0/2 [00:00<?, ?it/s]\u001b[A\n",
      "Batches:  50%|██████████████████████████████████████████████████████████████████████████████████████                                                                                      | 1/2 [00:02<00:02,  2.12s/it]\u001b[A\n",
      "Batches: 100%|████████████████████████████████████████████████████████████████████████████████████████████████████████████████████████████████████████████████████████████████████████████| 2/2 [00:02<00:00,  1.35s/it]\u001b[A\n",
      "Encoding: 11it [00:37,  3.13s/it]\n",
      "Batches:   0%|                                                                                                                                                                                    | 0/2 [00:00<?, ?it/s]\u001b[A\n",
      "Batches:  50%|██████████████████████████████████████████████████████████████████████████████████████                                                                                      | 1/2 [00:03<00:03,  3.87s/it]\u001b[A\n",
      "Batches: 100%|████████████████████████████████████████████████████████████████████████████████████████████████████████████████████████████████████████████████████████████████████████████| 2/2 [00:04<00:00,  2.22s/it]\u001b[A\n",
      "Encoding: 12it [00:41,  3.53s/it]\n",
      "Batches:   0%|                                                                                                                                                                                    | 0/2 [00:00<?, ?it/s]\u001b[A\n",
      "Batches:  50%|██████████████████████████████████████████████████████████████████████████████████████                                                                                      | 1/2 [00:03<00:03,  3.08s/it]\u001b[A\n",
      "Batches: 100%|████████████████████████████████████████████████████████████████████████████████████████████████████████████████████████████████████████████████████████████████████████████| 2/2 [00:03<00:00,  2.00s/it]\u001b[A\n",
      "Encoding: 13it [00:45,  3.68s/it]\n",
      "Batches:   0%|                                                                                                                                                                                    | 0/2 [00:00<?, ?it/s]\u001b[A\n",
      "Batches:  50%|██████████████████████████████████████████████████████████████████████████████████████                                                                                      | 1/2 [00:02<00:02,  2.24s/it]\u001b[A\n",
      "Batches: 100%|████████████████████████████████████████████████████████████████████████████████████████████████████████████████████████████████████████████████████████████████████████████| 2/2 [00:03<00:00,  1.56s/it]\u001b[A\n",
      "Encoding: 14it [00:48,  3.51s/it]\n",
      "Batches:   0%|                                                                                                                                                                                    | 0/2 [00:00<?, ?it/s]\u001b[A\n",
      "Batches:  50%|██████████████████████████████████████████████████████████████████████████████████████                                                                                      | 1/2 [00:03<00:03,  3.32s/it]\u001b[A\n",
      "Batches: 100%|████████████████████████████████████████████████████████████████████████████████████████████████████████████████████████████████████████████████████████████████████████████| 2/2 [00:04<00:00,  2.10s/it]\u001b[A\n",
      "Encoding: 15it [00:53,  3.72s/it]\n",
      "Batches:   0%|                                                                                                                                                                                    | 0/2 [00:00<?, ?it/s]\u001b[A\n",
      "Batches:  50%|██████████████████████████████████████████████████████████████████████████████████████                                                                                      | 1/2 [00:04<00:04,  4.82s/it]\u001b[A\n",
      "Batches: 100%|████████████████████████████████████████████████████████████████████████████████████████████████████████████████████████████████████████████████████████████████████████████| 2/2 [00:05<00:00,  2.68s/it]\u001b[A\n",
      "Encoding: 16it [00:58,  3.65s/it]\n",
      "INFO:root:Assigning embeddings to new dataframe column \"embeddings\".\n",
      "INFO:root:Data processing complete.\n"
     ]
    }
   ],
   "source": [
    "# Encoding initial input \n",
    "df = BatchEncoder(dataframe=df, \n",
    "                  column_to_encode='input', \n",
    "                  embedding_column_name = \"embedding\").process_data()\n",
    "\n",
    "# Encoding processed input \n",
    "df = BatchEncoder(dataframe=df, \n",
    "                  column_to_encode='input_processed', \n",
    "                  embedding_column_name = \"embedding_processed\").process_data()"
   ]
  },
  {
   "cell_type": "code",
   "execution_count": 15,
   "id": "b58ffc6d-3342-454f-b81f-eb8cddbff313",
   "metadata": {},
   "outputs": [
    {
     "data": {
      "text/html": [
       "<div>\n",
       "<style scoped>\n",
       "    .dataframe tbody tr th:only-of-type {\n",
       "        vertical-align: middle;\n",
       "    }\n",
       "\n",
       "    .dataframe tbody tr th {\n",
       "        vertical-align: top;\n",
       "    }\n",
       "\n",
       "    .dataframe thead th {\n",
       "        text-align: right;\n",
       "    }\n",
       "</style>\n",
       "<table border=\"1\" class=\"dataframe\">\n",
       "  <thead>\n",
       "    <tr style=\"text-align: right;\">\n",
       "      <th></th>\n",
       "      <th>input</th>\n",
       "      <th>class</th>\n",
       "      <th>extra</th>\n",
       "      <th>input_processed</th>\n",
       "      <th>embedding</th>\n",
       "      <th>embedding_processed</th>\n",
       "    </tr>\n",
       "  </thead>\n",
       "  <tbody>\n",
       "    <tr>\n",
       "      <th>82963</th>\n",
       "      <td>A ray is reflected in turn by three plane mirr...</td>\n",
       "      <td>Physics</td>\n",
       "      <td>NaN</td>\n",
       "      <td>ray reflect turn three plane mirror mutual rig...</td>\n",
       "      <td>[-0.021937372162938118, 0.004053227137774229, ...</td>\n",
       "      <td>[-0.004239920526742935, 0.0012692904565483332,...</td>\n",
       "    </tr>\n",
       "    <tr>\n",
       "      <th>70834</th>\n",
       "      <td>Numbers greater than 1000 but not greater than...</td>\n",
       "      <td>Maths</td>\n",
       "      <td>NaN</td>\n",
       "      <td>number greater 1000 greater 4000 form digit 01...</td>\n",
       "      <td>[0.03185784071683884, -0.01292299572378397, 0....</td>\n",
       "      <td>[0.015118478797376156, -0.019171688705682755, ...</td>\n",
       "    </tr>\n",
       "    <tr>\n",
       "      <th>114605</th>\n",
       "      <td>The ionisation energy of isotopes of an elemen...</td>\n",
       "      <td>Chemistry</td>\n",
       "      <td>NaN</td>\n",
       "      <td>ionis energi isotop element b differ c depend ...</td>\n",
       "      <td>[-0.010259386152029037, 0.019595377147197723, ...</td>\n",
       "      <td>[0.02128755673766136, 0.02362244389951229, 0.0...</td>\n",
       "    </tr>\n",
       "    <tr>\n",
       "      <th>85906</th>\n",
       "      <td>Which of the following products obtained by de...</td>\n",
       "      <td>Chemistry</td>\n",
       "      <td>NaN</td>\n",
       "      <td>follow product obtain destruct distil coal pro...</td>\n",
       "      <td>[0.0018703339155763388, -0.021671300753951073,...</td>\n",
       "      <td>[-0.026240870356559753, -0.04943910613656044, ...</td>\n",
       "    </tr>\n",
       "    <tr>\n",
       "      <th>88339</th>\n",
       "      <td>Find the maximum zener current for the\\nzener ...</td>\n",
       "      <td>Physics</td>\n",
       "      <td>NaN</td>\n",
       "      <td>find maximum zener current zener diod shown fi...</td>\n",
       "      <td>[-3.6853998608421534e-05, 0.000886078807525336...</td>\n",
       "      <td>[0.01002984307706356, -0.02718561887741089, 0....</td>\n",
       "    </tr>\n",
       "  </tbody>\n",
       "</table>\n",
       "</div>"
      ],
      "text/plain": [
       "                                                    input      class extra  \\\n",
       "82963   A ray is reflected in turn by three plane mirr...    Physics   NaN   \n",
       "70834   Numbers greater than 1000 but not greater than...      Maths   NaN   \n",
       "114605  The ionisation energy of isotopes of an elemen...  Chemistry   NaN   \n",
       "85906   Which of the following products obtained by de...  Chemistry   NaN   \n",
       "88339   Find the maximum zener current for the\\nzener ...    Physics   NaN   \n",
       "\n",
       "                                          input_processed  \\\n",
       "82963   ray reflect turn three plane mirror mutual rig...   \n",
       "70834   number greater 1000 greater 4000 form digit 01...   \n",
       "114605  ionis energi isotop element b differ c depend ...   \n",
       "85906   follow product obtain destruct distil coal pro...   \n",
       "88339   find maximum zener current zener diod shown fi...   \n",
       "\n",
       "                                                embedding  \\\n",
       "82963   [-0.021937372162938118, 0.004053227137774229, ...   \n",
       "70834   [0.03185784071683884, -0.01292299572378397, 0....   \n",
       "114605  [-0.010259386152029037, 0.019595377147197723, ...   \n",
       "85906   [0.0018703339155763388, -0.021671300753951073,...   \n",
       "88339   [-3.6853998608421534e-05, 0.000886078807525336...   \n",
       "\n",
       "                                      embedding_processed  \n",
       "82963   [-0.004239920526742935, 0.0012692904565483332,...  \n",
       "70834   [0.015118478797376156, -0.019171688705682755, ...  \n",
       "114605  [0.02128755673766136, 0.02362244389951229, 0.0...  \n",
       "85906   [-0.026240870356559753, -0.04943910613656044, ...  \n",
       "88339   [0.01002984307706356, -0.02718561887741089, 0....  "
      ]
     },
     "execution_count": 15,
     "metadata": {},
     "output_type": "execute_result"
    }
   ],
   "source": [
    "df.head()"
   ]
  },
  {
   "cell_type": "markdown",
   "id": "16e4f53a-6bd3-4119-981d-549a33290d88",
   "metadata": {},
   "source": [
    "## 4. Classification with XGBoost"
   ]
  },
  {
   "cell_type": "markdown",
   "id": "43560b75-3d6d-42bc-9dae-cb36a85641f9",
   "metadata": {},
   "source": [
    "For the classification was selected XGBoost. The idea behind it is that XGBoost is a good classification algorithm for the majority of tasks. \n",
    "\n",
    "Test Train XGBoosst based on processed input/embeddings and raw input/embeddings and compare results.\n",
    "\n",
    "Please notice that we use random_state=1. It will allow us to decrease randomness when splitting data for raw data and for processed data and decrease bias when we compare results. "
   ]
  },
  {
   "cell_type": "code",
   "execution_count": 17,
   "id": "6e8c4d79-ee9c-429a-a4fa-19787d282624",
   "metadata": {},
   "outputs": [],
   "source": [
    "from text_classifier import XGBTextClassifier"
   ]
  },
  {
   "cell_type": "code",
   "execution_count": 20,
   "id": "83a299d3-f493-48d0-b783-fb9f4cd16555",
   "metadata": {
    "scrolled": true
   },
   "outputs": [
    {
     "name": "stderr",
     "output_type": "stream",
     "text": [
      "INFO:root:              precision    recall  f1-score   support\n",
      "\n",
      "     Biology       0.95      0.70      0.81        27\n",
      "   Chemistry       0.80      0.88      0.83        80\n",
      "       Maths       0.93      0.95      0.94        56\n",
      "     Physics       0.88      0.86      0.87        87\n",
      "\n",
      "    accuracy                           0.87       250\n",
      "   macro avg       0.89      0.85      0.86       250\n",
      "weighted avg       0.87      0.87      0.87       250\n",
      "\n"
     ]
    }
   ],
   "source": [
    "# Train and evaluate classifier for raw data\n",
    "clf = XGBTextClassifier(dataset=df, embedding_column='embedding', predict_column='class')\n",
    "clf.prepare_data()\n",
    "clf.train()\n",
    "y_pred = clf.predict()\n",
    "clf.evaluate(y_pred)"
   ]
  },
  {
   "cell_type": "code",
   "execution_count": 21,
   "id": "b746313d-732c-4e88-821d-ba3bf00106fe",
   "metadata": {},
   "outputs": [
    {
     "name": "stderr",
     "output_type": "stream",
     "text": [
      "INFO:root:              precision    recall  f1-score   support\n",
      "\n",
      "     Biology       0.86      0.70      0.78        27\n",
      "   Chemistry       0.80      0.80      0.80        80\n",
      "       Maths       0.88      0.95      0.91        56\n",
      "     Physics       0.85      0.86      0.86        87\n",
      "\n",
      "    accuracy                           0.84       250\n",
      "   macro avg       0.85      0.83      0.84       250\n",
      "weighted avg       0.84      0.84      0.84       250\n",
      "\n"
     ]
    }
   ],
   "source": [
    "# Train and evaluate classifier for raw data\n",
    "clf = XGBTextClassifier(dataset=df, embedding_column='embedding_processed', predict_column='class')\n",
    "clf.prepare_data()\n",
    "clf.train()\n",
    "y_pred = clf.predict()\n",
    "clf.evaluate(y_pred)"
   ]
  },
  {
   "cell_type": "markdown",
   "id": "be7e2e6e-fc03-4a0d-ab90-a9c77dde5ab4",
   "metadata": {},
   "source": [
    "We see that results for raw data are better a bit and it's logical as we keep a semantic of the text. \n",
    "\n",
    "The situation might change when we tune XGBoost and train a model on bigger number of data."
   ]
  },
  {
   "cell_type": "markdown",
   "id": "2d0fae52-abf5-4850-bd65-85668668afe5",
   "metadata": {},
   "source": [
    "## 5. Classification with GPT models"
   ]
  },
  {
   "cell_type": "markdown",
   "id": "def4d110-1530-4cc7-9a13-cecc34dcd4a4",
   "metadata": {},
   "source": [
    "GPT classification was done using prompt engineering, and Langchain as a wrapper for the open ai package. \n",
    "Please notice that a prompt is very simple and does not have any samples (few-shot learning). \n",
    "The idea behind it is that the current task is a simple task for GPT-4 model and adding some samples into the prompt can increase efficiency, but also a number of tokens we send to open ai and cost for this solution. "
   ]
  },
  {
   "cell_type": "code",
   "execution_count": 1,
   "id": "3712c0b8-976a-419a-b896-274e6e9fea01",
   "metadata": {},
   "outputs": [],
   "source": [
    "from chat_gpt_classifier import GPTTextClassifier"
   ]
  },
  {
   "cell_type": "code",
   "execution_count": 5,
   "id": "14ddff08-0ba6-42fe-9f43-dded5bea84d3",
   "metadata": {},
   "outputs": [],
   "source": [
    "os.environ[\"OPENAI_API_KEY\"] = \"sk-...\""
   ]
  },
  {
   "cell_type": "code",
   "execution_count": 6,
   "id": "1ec1818d-9e9c-42b1-b271-023f1633941c",
   "metadata": {},
   "outputs": [
    {
     "name": "stderr",
     "output_type": "stream",
     "text": [
      "INFO:httpx:HTTP Request: POST https://api.openai.com/v1/chat/completions \"HTTP/1.1 200 OK\"\n"
     ]
    },
    {
     "data": {
      "text/plain": [
       "'Maths'"
      ]
     },
     "execution_count": 6,
     "metadata": {},
     "output_type": "execute_result"
    }
   ],
   "source": [
    "GPTTextClassifier().classify(\"1+4 = 5\")"
   ]
  },
  {
   "cell_type": "code",
   "execution_count": 7,
   "id": "a884f621-bd09-4497-b748-e3fd65d2faf1",
   "metadata": {},
   "outputs": [
    {
     "name": "stderr",
     "output_type": "stream",
     "text": [
      "INFO:httpx:HTTP Request: POST https://api.openai.com/v1/chat/completions \"HTTP/1.1 200 OK\"\n"
     ]
    },
    {
     "data": {
      "text/plain": [
       "'Physics'"
      ]
     },
     "execution_count": 7,
     "metadata": {},
     "output_type": "execute_result"
    }
   ],
   "source": [
    "GPTTextClassifier().classify(\"The law of universal gravitation\")"
   ]
  },
  {
   "cell_type": "code",
   "execution_count": 8,
   "id": "b915bc73-2e79-4085-a22f-9ae47bfd5e24",
   "metadata": {},
   "outputs": [
    {
     "name": "stderr",
     "output_type": "stream",
     "text": [
      "INFO:httpx:HTTP Request: POST https://api.openai.com/v1/chat/completions \"HTTP/1.1 200 OK\"\n"
     ]
    },
    {
     "data": {
      "text/plain": [
       "'Chemistry'"
      ]
     },
     "execution_count": 8,
     "metadata": {},
     "output_type": "execute_result"
    }
   ],
   "source": [
    "GPTTextClassifier().classify(\"Potassium carbonate\")"
   ]
  },
  {
   "cell_type": "code",
   "execution_count": 9,
   "id": "1b006eb6-f741-401f-9f85-0b79ff0ecae5",
   "metadata": {},
   "outputs": [
    {
     "name": "stderr",
     "output_type": "stream",
     "text": [
      "INFO:httpx:HTTP Request: POST https://api.openai.com/v1/chat/completions \"HTTP/1.1 200 OK\"\n"
     ]
    },
    {
     "data": {
      "text/plain": [
       "'Biology'"
      ]
     },
     "execution_count": 9,
     "metadata": {},
     "output_type": "execute_result"
    }
   ],
   "source": [
    "GPTTextClassifier().classify(\"Head Disease\")"
   ]
  },
  {
   "cell_type": "markdown",
   "id": "6216dff1-6ec8-46ad-aa92-529d2ea560ca",
   "metadata": {},
   "source": [
    "## 6. Summary"
   ]
  },
  {
   "cell_type": "markdown",
   "id": "c1f01e1d-e39c-42c6-bf76-70e26c79ba1a",
   "metadata": {},
   "source": [
    "I did not calculate metrics for the approach with Chat GPT. Also, XGBoost was trained without any parameters tuning or optimization. \n",
    "Also, I do not have a full understanding of the use case. \n",
    "So, It's hard to make a conclusion about what approach might be better for the current task. \n",
    "But it's my thoughts: \n",
    "\n",
    "**Classification with embeddings**\n",
    "\n",
    "This approach is good when we have:  \n",
    "1. enough amount of data for training,\n",
    "2. our classes do not change frequently (for example we have those 4 classes and adding a new class is a low probable event) \n",
    "3. Our budget is limited\n",
    "4. From the security perspective we can not send data to 3-d party APIs. For example, we have some sensitive data from customers. \n",
    "5. When response time is important for us. We will have some delay in the response with GPT, because its 3-d party API. \n",
    "6. When loads in the server are very big. With a big load on the server, we will send lots of requests to Open AI and can exceed token limits. It slows down a solution. Having some custom models might be a good choice. \n",
    "\n",
    "**Classification with Chat GPT**\n",
    "\n",
    "This approach is good: \n",
    "1. When we have a limited time to propose a solution and deploy it. This approach is not more than prompt engineering and creating a simple API that uses open AI models.\n",
    "2. When we do not have any potential security issues when sending data to 3-d party API. We do not have sensitive data from customers.\n",
    "3. When the load of the server is not bid and response time is not important for us \n",
    "4. When we have a good budget. Each call to Open AI has some costs.\n",
    "5. Classes are changed frequently. For example, we might need to add some new classes. In this case, prompt engineering might be a simple solution for this task, and adding a new class it's only changes the prompt. "
   ]
  },
  {
   "cell_type": "markdown",
   "id": "c2cf2e38-6c95-47de-9fc1-a999b5fd567c",
   "metadata": {},
   "source": [
    "## 7. Bonus part"
   ]
  },
  {
   "cell_type": "markdown",
   "id": "63738280-a8cd-4393-a5cd-c5a853e3a8c6",
   "metadata": {},
   "source": [
    "If we do not have a class for each record, using LLM, for example ChatGPT (as it made above might be a good choice)\n",
    "Lets apply this method for 10 records from the dataset. "
   ]
  },
  {
   "cell_type": "code",
   "execution_count": 18,
   "id": "fe8c5b3e-76ff-4735-8dbb-32a439e73400",
   "metadata": {},
   "outputs": [
    {
     "name": "stderr",
     "output_type": "stream",
     "text": [
      "INFO:httpx:HTTP Request: POST https://api.openai.com/v1/chat/completions \"HTTP/1.1 200 OK\"\n",
      "INFO:httpx:HTTP Request: POST https://api.openai.com/v1/chat/completions \"HTTP/1.1 200 OK\"\n",
      "INFO:httpx:HTTP Request: POST https://api.openai.com/v1/chat/completions \"HTTP/1.1 200 OK\"\n",
      "INFO:httpx:HTTP Request: POST https://api.openai.com/v1/chat/completions \"HTTP/1.1 200 OK\"\n",
      "INFO:httpx:HTTP Request: POST https://api.openai.com/v1/chat/completions \"HTTP/1.1 200 OK\"\n",
      "/var/folders/21/9wtbghc12fv51hsj66vnhw0c0000gq/T/ipykernel_18747/3828103937.py:6: SettingWithCopyWarning: \n",
      "A value is trying to be set on a copy of a slice from a DataFrame.\n",
      "Try using .loc[row_indexer,col_indexer] = value instead\n",
      "\n",
      "See the caveats in the documentation: https://pandas.pydata.org/pandas-docs/stable/user_guide/indexing.html#returning-a-view-versus-a-copy\n",
      "  df_bonus[\"class_llm\"] = df_bonus[\"input\"].apply(llm_classification)\n"
     ]
    }
   ],
   "source": [
    "df_bonus = df[:5]\n",
    "\n",
    "def llm_classification(text):\n",
    "    return GPTTextClassifier().classify(text)\n",
    "\n",
    "df_bonus[\"class_llm\"] = df_bonus[\"input\"].apply(llm_classification)"
   ]
  },
  {
   "cell_type": "code",
   "execution_count": 19,
   "id": "519a4f18-6bec-4bcf-9d51-bbc09e5c8c35",
   "metadata": {},
   "outputs": [
    {
     "data": {
      "text/html": [
       "<div>\n",
       "<style scoped>\n",
       "    .dataframe tbody tr th:only-of-type {\n",
       "        vertical-align: middle;\n",
       "    }\n",
       "\n",
       "    .dataframe tbody tr th {\n",
       "        vertical-align: top;\n",
       "    }\n",
       "\n",
       "    .dataframe thead th {\n",
       "        text-align: right;\n",
       "    }\n",
       "</style>\n",
       "<table border=\"1\" class=\"dataframe\">\n",
       "  <thead>\n",
       "    <tr style=\"text-align: right;\">\n",
       "      <th></th>\n",
       "      <th>input</th>\n",
       "      <th>class</th>\n",
       "      <th>extra</th>\n",
       "      <th>class_llm</th>\n",
       "    </tr>\n",
       "  </thead>\n",
       "  <tbody>\n",
       "    <tr>\n",
       "      <th>0</th>\n",
       "      <td>An anti-forest measure is\\nA. Afforestation\\nB...</td>\n",
       "      <td>Biology</td>\n",
       "      <td>NaN</td>\n",
       "      <td>Biology</td>\n",
       "    </tr>\n",
       "    <tr>\n",
       "      <th>1</th>\n",
       "      <td>Among the following organic acids, the acid pr...</td>\n",
       "      <td>Chemistry</td>\n",
       "      <td>NaN</td>\n",
       "      <td>Chemistry</td>\n",
       "    </tr>\n",
       "    <tr>\n",
       "      <th>2</th>\n",
       "      <td>If the area of two similar triangles are equal...</td>\n",
       "      <td>Maths</td>\n",
       "      <td>NaN</td>\n",
       "      <td>Maths</td>\n",
       "    </tr>\n",
       "    <tr>\n",
       "      <th>3</th>\n",
       "      <td>In recent year, there has been a growing\\nconc...</td>\n",
       "      <td>Biology</td>\n",
       "      <td>NaN</td>\n",
       "      <td>Biology</td>\n",
       "    </tr>\n",
       "    <tr>\n",
       "      <th>4</th>\n",
       "      <td>Which of the following statement\\nregarding tr...</td>\n",
       "      <td>Physics</td>\n",
       "      <td>NaN</td>\n",
       "      <td>Physics</td>\n",
       "    </tr>\n",
       "  </tbody>\n",
       "</table>\n",
       "</div>"
      ],
      "text/plain": [
       "                                               input      class extra  \\\n",
       "0  An anti-forest measure is\\nA. Afforestation\\nB...    Biology   NaN   \n",
       "1  Among the following organic acids, the acid pr...  Chemistry   NaN   \n",
       "2  If the area of two similar triangles are equal...      Maths   NaN   \n",
       "3  In recent year, there has been a growing\\nconc...    Biology   NaN   \n",
       "4  Which of the following statement\\nregarding tr...    Physics   NaN   \n",
       "\n",
       "   class_llm  \n",
       "0    Biology  \n",
       "1  Chemistry  \n",
       "2      Maths  \n",
       "3    Biology  \n",
       "4    Physics  "
      ]
     },
     "execution_count": 19,
     "metadata": {},
     "output_type": "execute_result"
    }
   ],
   "source": [
    "df_bonus.head()"
   ]
  },
  {
   "cell_type": "markdown",
   "id": "ea96c1ba-194d-4ff1-9895-4ef6e7384f38",
   "metadata": {},
   "source": [
    "The current task is simple for the GPT-4 model, so I'm not sure that verification might add a lot of value. \n",
    "But let's imagine that a task is more complex, for example, we have 50 classes or classes are not too obvious. \n",
    "\n",
    "In this case, \n",
    "1. I would use an Open AI function calling that should increase the accuracy of the returned result. \n",
    "2. We might need to add a description for each class in the prompt, but then we increase the number of tokens and price per request to LLM.\n",
    "\n",
    "If we do not have human validation, there might be a couple of approaches that probably would help: \n",
    "1. Ensenble of models. Let's use not only Open AI models but also Google Gemini for example. And after making some voting for models. Maybe even try to use some open-source models like mixtrail.\n",
    "2. Add a separate model that evaluates the results of the previous ones. We can design a prompt that responds with a score. \n",
    "3. Calculate cosine similarity between predicted class and input. But not sure that this approach will work, as our class is a simple word. \n",
    "The advanced approach here will be to describe each class with a couple of sentences calculate the cosine similarity between input and description for each class and return the class with the higher score. "
   ]
  }
 ],
 "metadata": {
  "kernelspec": {
   "display_name": ".venv",
   "language": "python",
   "name": ".venv"
  },
  "language_info": {
   "codemirror_mode": {
    "name": "ipython",
    "version": 3
   },
   "file_extension": ".py",
   "mimetype": "text/x-python",
   "name": "python",
   "nbconvert_exporter": "python",
   "pygments_lexer": "ipython3",
   "version": "3.11.8"
  }
 },
 "nbformat": 4,
 "nbformat_minor": 5
}
